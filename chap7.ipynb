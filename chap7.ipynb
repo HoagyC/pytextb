{
 "cells": [
  {
   "cell_type": "code",
   "execution_count": 1,
   "metadata": {},
   "outputs": [
    {
     "name": "stdout",
     "output_type": "stream",
     "text": [
      "Files already downloaded and verified\n",
      "Files already downloaded and verified\n"
     ]
    }
   ],
   "source": [
    "import numpy as np\n",
    "import torch\n",
    "import torch.nn as nn\n",
    "import torch.optim as optim\n",
    "\n",
    "from torchvision import datasets\n",
    "\n",
    "data_path = './data/p1ch7/'\n",
    "cifar10 = datasets.CIFAR10(data_path, train=True, download=True)\n",
    "cifar10_val = datasets.CIFAR10(data_path, train=False, download=True)"
   ]
  },
  {
   "cell_type": "code",
   "execution_count": 2,
   "metadata": {},
   "outputs": [
    {
     "data": {
      "text/plain": "((32, 32, 3),\n (torchvision.datasets.cifar.CIFAR10,\n  torchvision.datasets.vision.VisionDataset,\n  torch.utils.data.dataset.Dataset,\n  typing.Generic,\n  object),\n ['airplane',\n  'automobile',\n  'bird',\n  'cat',\n  'deer',\n  'dog',\n  'frog',\n  'horse',\n  'ship',\n  'truck'])"
     },
     "execution_count": 2,
     "metadata": {},
     "output_type": "execute_result"
    }
   ],
   "source": [
    "cifar10.data[0].shape, type(cifar10).__mro__, cifar10.classes\n"
   ]
  },
  {
   "cell_type": "code",
   "execution_count": 3,
   "metadata": {},
   "outputs": [
    {
     "data": {
      "text/plain": "(<PIL.Image.Image image mode=RGB size=32x32 at 0x7F40D2054E20>, 4, 'deer')"
     },
     "execution_count": 3,
     "metadata": {},
     "output_type": "execute_result"
    }
   ],
   "source": [
    "img, label = cifar10[10]\n",
    "class_names = cifar10.classes\n",
    "img, label, class_names[label]"
   ]
  },
  {
   "cell_type": "code",
   "execution_count": 4,
   "metadata": {},
   "outputs": [
    {
     "data": {
      "text/plain": "<matplotlib.image.AxesImage at 0x7f40c6fe3850>"
     },
     "execution_count": 4,
     "metadata": {},
     "output_type": "execute_result"
    },
    {
     "data": {
      "image/png": "[encoded data removed]",
      "text/plain": "<Figure size 432x288 with 1 Axes>"
     },
     "metadata": {
      "needs_background": "light",
      "transient": {}
     },
     "output_type": "display_data"
    }
   ],
   "source": [
    "from matplotlib import pyplot as plt\n",
    "plt.imshow(img)"
   ]
  },
  {
   "cell_type": "code",
   "execution_count": 5,
   "metadata": {},
   "outputs": [
    {
     "data": {
      "text/plain": "['AutoAugment',\n 'AutoAugmentPolicy',\n 'CenterCrop',\n 'ColorJitter',\n 'Compose',\n 'ConvertImageDtype',\n 'FiveCrop',\n 'GaussianBlur',\n 'Grayscale',\n 'InterpolationMode',\n 'Lambda',\n 'LinearTransformation',\n 'Normalize',\n 'PILToTensor',\n 'Pad',\n 'RandAugment',\n 'RandomAdjustSharpness',\n 'RandomAffine',\n 'RandomApply',\n 'RandomAutocontrast',\n 'RandomChoice',\n 'RandomCrop',\n 'RandomEqualize',\n 'RandomErasing',\n 'RandomGrayscale',\n 'RandomHorizontalFlip',\n 'RandomInvert',\n 'RandomOrder',\n 'RandomPerspective',\n 'RandomPosterize',\n 'RandomResizedCrop',\n 'RandomRotation',\n 'RandomSizedCrop',\n 'RandomSolarize',\n 'RandomVerticalFlip',\n 'Resize',\n 'Scale',\n 'TenCrop',\n 'ToPILImage',\n 'ToTensor',\n 'TrivialAugmentWide',\n '__builtins__',\n '__cached__',\n '__doc__',\n '__file__',\n '__loader__',\n '__name__',\n '__package__',\n '__path__',\n '__spec__',\n 'autoaugment',\n 'functional',\n 'functional_pil',\n 'functional_tensor',\n 'transforms']"
     },
     "execution_count": 5,
     "metadata": {},
     "output_type": "execute_result"
    }
   ],
   "source": [
    "from torchvision import transforms\n",
    "dir(transforms)"
   ]
  },
  {
   "cell_type": "code",
   "execution_count": 6,
   "metadata": {},
   "outputs": [
    {
     "data": {
      "text/plain": "torch.Size([3, 32, 32])"
     },
     "execution_count": 6,
     "metadata": {},
     "output_type": "execute_result"
    }
   ],
   "source": [
    "to_tensor = transforms.ToTensor()\n",
    "img_t = to_tensor(img)\n",
    "img_t.shape"
   ]
  },
  {
   "cell_type": "code",
   "execution_count": 7,
   "metadata": {},
   "outputs": [],
   "source": [
    "tensor_cifar10 = datasets.CIFAR10(data_path, train=True, download=False,\n",
    "                                  transform=transforms.ToTensor())"
   ]
  },
  {
   "cell_type": "code",
   "execution_count": 8,
   "metadata": {},
   "outputs": [
    {
     "data": {
      "text/plain": "(tensor([[[0.2314, 0.1686, 0.1961,  ..., 0.6196, 0.5961, 0.5804],\n          [0.0627, 0.0000, 0.0706,  ..., 0.4824, 0.4667, 0.4784],\n          [0.0980, 0.0627, 0.1922,  ..., 0.4627, 0.4706, 0.4275],\n          ...,\n          [0.8157, 0.7882, 0.7765,  ..., 0.6275, 0.2196, 0.2078],\n          [0.7059, 0.6784, 0.7294,  ..., 0.7216, 0.3804, 0.3255],\n          [0.6941, 0.6588, 0.7020,  ..., 0.8471, 0.5922, 0.4824]],\n \n         [[0.2431, 0.1804, 0.1882,  ..., 0.5176, 0.4902, 0.4863],\n          [0.0784, 0.0000, 0.0314,  ..., 0.3451, 0.3255, 0.3412],\n          [0.0941, 0.0275, 0.1059,  ..., 0.3294, 0.3294, 0.2863],\n          ...,\n          [0.6667, 0.6000, 0.6314,  ..., 0.5216, 0.1216, 0.1333],\n          [0.5451, 0.4824, 0.5647,  ..., 0.5804, 0.2431, 0.2078],\n          [0.5647, 0.5059, 0.5569,  ..., 0.7216, 0.4627, 0.3608]],\n \n         [[0.2471, 0.1765, 0.1686,  ..., 0.4235, 0.4000, 0.4039],\n          [0.0784, 0.0000, 0.0000,  ..., 0.2157, 0.1961, 0.2235],\n          [0.0824, 0.0000, 0.0314,  ..., 0.1961, 0.1961, 0.1647],\n          ...,\n          [0.3765, 0.1333, 0.1020,  ..., 0.2745, 0.0275, 0.0784],\n          [0.3765, 0.1647, 0.1176,  ..., 0.3686, 0.1333, 0.1333],\n          [0.4549, 0.3686, 0.3412,  ..., 0.5490, 0.3294, 0.2824]]]),\n 6,\n 'frog',\n torch.Tensor,\n torch.Size([3, 32, 32]))"
     },
     "execution_count": 8,
     "metadata": {},
     "output_type": "execute_result"
    }
   ],
   "source": [
    "img_t, label = tensor_cifar10[0]\n",
    "img_t, label, class_names[label], type(img_t), img_t.shape"
   ]
  },
  {
   "cell_type": "code",
   "execution_count": 9,
   "metadata": {},
   "outputs": [
    {
     "data": {
      "text/plain": "<matplotlib.image.AxesImage at 0x7f40c4e5a940>"
     },
     "execution_count": 9,
     "metadata": {},
     "output_type": "execute_result"
    },
    {
     "data": {
      "image/png": "[encoded data removed]",
      "text/plain": "<Figure size 432x288 with 1 Axes>"
     },
     "metadata": {
      "needs_background": "light",
      "transient": {}
     },
     "output_type": "display_data"
    }
   ],
   "source": [
    "min, max = img_t.min(), img_t.max()\n",
    "min, max\n",
    "\n",
    "# height and width as the last two dimensions is correct \n",
    "# done automatically by ToTensor()\n",
    "# which has also scaled the dataset\n",
    "\n",
    "plt.imshow(img_t.permute(1,2,0))"
   ]
  },
  {
   "cell_type": "code",
   "execution_count": 10,
   "metadata": {},
   "outputs": [
    {
     "data": {
      "text/plain": "torch.Size([3, 32, 32, 50000])"
     },
     "execution_count": 10,
     "metadata": {},
     "output_type": "execute_result"
    }
   ],
   "source": [
    "imgs = torch.stack([img_t for img_t, _ in tensor_cifar10], dim=3)\n",
    "imgs.shape"
   ]
  },
  {
   "cell_type": "code",
   "execution_count": 11,
   "metadata": {},
   "outputs": [
    {
     "data": {
      "text/plain": "(tensor([0.4914, 0.4822, 0.4465]), tensor([0.2470, 0.2435, 0.2616]))"
     },
     "execution_count": 11,
     "metadata": {},
     "output_type": "execute_result"
    }
   ],
   "source": [
    "channel_means = imgs.view(3, -1).mean(dim=1) # neat to compute mean over 3 dims\n",
    "channel_stds = imgs.view(3, -1).std(dim=1)\n",
    "channel_means, channel_stds"
   ]
  },
  {
   "cell_type": "code",
   "execution_count": 12,
   "metadata": {},
   "outputs": [],
   "source": [
    "norm = transforms.Normalize(channel_means, channel_stds)\n",
    "\n",
    "full_transform = transforms.Compose([\n",
    "    transforms.ToTensor(),\n",
    "    norm\n",
    "])\n",
    "\n",
    "transformed_cifar = datasets.CIFAR10(data_path, train=True, download=False,\n",
    "                                     transform=full_transform)\n",
    "transformed_cifar_val = datasets.CIFAR10(data_path, train=True, download=False,\n",
    "                                     transform=full_transform)"
   ]
  },
  {
   "cell_type": "code",
   "execution_count": 13,
   "metadata": {},
   "outputs": [
    {
     "name": "stderr",
     "output_type": "stream",
     "text": [
      "Clipping input data to the valid range for imshow with RGB data ([0..1] for floats or [0..255] for integers).\n"
     ]
    },
    {
     "data": {
      "text/plain": "<matplotlib.image.AxesImage at 0x7f40c4e8e580>"
     },
     "execution_count": 13,
     "metadata": {},
     "output_type": "execute_result"
    },
    {
     "data": {
      "image/png": "[encoded data removed]",
      "text/plain": "<Figure size 432x288 with 1 Axes>"
     },
     "metadata": {
      "needs_background": "light",
      "transient": {}
     },
     "output_type": "display_data"
    }
   ],
   "source": [
    "transformed_cifar[0]\n",
    "plt.imshow(transformed_cifar[99][0].permute(1, 2, 0))\n",
    "# black is where rgb levels go outside [0, 1] and so just rendered black by pyplot\n",
    "\n"
   ]
  },
  {
   "cell_type": "code",
   "execution_count": 14,
   "metadata": {},
   "outputs": [
    {
     "data": {
      "text/plain": "['airplane', 'bird']"
     },
     "execution_count": 14,
     "metadata": {},
     "output_type": "execute_result"
    }
   ],
   "source": [
    "label_map = {0: 0, 2: 1}\n",
    "class_names = [cifar10.classes[i] for i in [0, 2]]\n",
    "class_names"
   ]
  },
  {
   "cell_type": "code",
   "execution_count": 15,
   "metadata": {},
   "outputs": [
    {
     "data": {
      "text/plain": "10000"
     },
     "execution_count": 15,
     "metadata": {},
     "output_type": "execute_result"
    }
   ],
   "source": [
    "cifar2 = [(img, label_map[label]) for img, label in transformed_cifar\n",
    "           if label in [0, 2]]\n",
    "\n",
    "cifar2_val = [(img, label_map[label]) for img, label in transformed_cifar_val\n",
    "              if label in [0, 2]]\n",
    "\n",
    "len(cifar2)"
   ]
  },
  {
   "cell_type": "code",
   "execution_count": 16,
   "metadata": {},
   "outputs": [
    {
     "data": {
      "text/plain": "10000"
     },
     "execution_count": 16,
     "metadata": {},
     "output_type": "execute_result"
    }
   ],
   "source": [
    "len(cifar2_val)"
   ]
  },
  {
   "cell_type": "code",
   "execution_count": 17,
   "metadata": {},
   "outputs": [
    {
     "data": {
      "text/plain": "torch.Size([3, 32, 32])"
     },
     "execution_count": 17,
     "metadata": {},
     "output_type": "execute_result"
    }
   ],
   "source": [
    "n_out = 2\n",
    "shape = transformed_cifar[0][0].shape\n",
    "n_in = shape[0] * shape[1] * shape[2]\n",
    "model = nn.Sequential(\n",
    "    nn.Linear(n_in, 512),\n",
    "    nn.Tanh(),\n",
    "    nn.Linear(512, n_out),\n",
    "    nn.LogSoftmax(dim=1)\n",
    ")\n",
    "shape\n",
    "\n",
    "# note, we want here to use the negative log likelihood (NLLLoss)\n",
    "# but it doesn't take as input probabilities, but a tensor of log probabilities\n",
    "# we use nn.LogSoftmax which does the work to make it numerically stable"
   ]
  },
  {
   "cell_type": "code",
   "execution_count": 18,
   "metadata": {},
   "outputs": [
    {
     "name": "stderr",
     "output_type": "stream",
     "text": [
      "Clipping input data to the valid range for imshow with RGB data ([0..1] for floats or [0..255] for integers).\n"
     ]
    },
    {
     "data": {
      "image/png": "[encoded data removed]",
      "text/plain": "<Figure size 432x288 with 1 Axes>"
     },
     "metadata": {
      "needs_background": "light",
      "transient": {}
     },
     "output_type": "display_data"
    }
   ],
   "source": [
    "img, _ = cifar2[0]\n",
    "plt.imshow(img.permute(1, 2, 0))\n",
    "plt.show()"
   ]
  },
  {
   "cell_type": "code",
   "execution_count": 19,
   "metadata": {},
   "outputs": [
    {
     "data": {
      "text/plain": "(tensor(0.9987, grad_fn=<NllLossBackward0>),\n tensor([[-0.4594, -0.9987]], grad_fn=<LogSoftmaxBackward0>))"
     },
     "execution_count": 19,
     "metadata": {},
     "output_type": "execute_result"
    }
   ],
   "source": [
    "img, label = cifar2[0]\n",
    "out = model(img.view(-1).unsqueeze(0)) # need the batch variable as always\n",
    "\n",
    "loss_fn = nn.NLLLoss()\n",
    "loss = loss_fn(out, torch.tensor([label]))\n",
    "loss, out"
   ]
  },
  {
   "cell_type": "code",
   "execution_count": 20,
   "metadata": {},
   "outputs": [
    {
     "name": "stdout",
     "output_type": "stream",
     "text": [
      "tensor([[-0.4594, -0.9987]], grad_fn=<LogSoftmaxBackward0>) tensor(0.9987, grad_fn=<NllLossBackward0>)\n",
      "tensor([[-0.2393, -1.5474]], grad_fn=<LogSoftmaxBackward0>) tensor(1.5474, grad_fn=<NllLossBackward0>)\n",
      "tensor([[-0.1492, -1.9759]], grad_fn=<LogSoftmaxBackward0>) tensor(1.9759, grad_fn=<NllLossBackward0>)\n",
      "tensor([[-3.8057, -0.0225]], grad_fn=<LogSoftmaxBackward0>) tensor(0.0225, grad_fn=<NllLossBackward0>)\n",
      "tensor([[-0.2945, -1.3660]], grad_fn=<LogSoftmaxBackward0>) tensor(0.2945, grad_fn=<NllLossBackward0>)\n",
      "tensor([[-0.5049, -0.9253]], grad_fn=<LogSoftmaxBackward0>) tensor(0.5049, grad_fn=<NllLossBackward0>)\n",
      "tensor([[-3.3054, -0.0374]], grad_fn=<LogSoftmaxBackward0>) tensor(3.3054, grad_fn=<NllLossBackward0>)\n",
      "tensor([[-4.2041e-03, -5.4738e+00]], grad_fn=<LogSoftmaxBackward0>) tensor(5.4738, grad_fn=<NllLossBackward0>)\n",
      "tensor([[-1.0378, -0.4373]], grad_fn=<LogSoftmaxBackward0>) tensor(0.4373, grad_fn=<NllLossBackward0>)\n",
      "tensor([[-0.0491, -3.0379]], grad_fn=<LogSoftmaxBackward0>) tensor(3.0379, grad_fn=<NllLossBackward0>)\n",
      "tensor([[-2.2757, -0.1084]], grad_fn=<LogSoftmaxBackward0>) tensor(0.1084, grad_fn=<NllLossBackward0>)\n",
      "tensor([[-2.5287, -0.0831]], grad_fn=<LogSoftmaxBackward0>) tensor(2.5287, grad_fn=<NllLossBackward0>)\n",
      "Epoch: 0, Loss: 2.528700351715088\n"
     ]
    }
   ],
   "source": [
    "learning_rate = 1e-2\n",
    "optimizer = optim.SGD(model.parameters(), lr=learning_rate)\n",
    "n_epochs = 1\n",
    "for epoch in range(n_epochs):\n",
    "    for img, label in cifar2[:12:\n",
    "        out = model(img.view(-1).unsqueeze(0))\n",
    "        loss = loss_fn(out, torch.tensor([label]))\n",
    "        \n",
    "        print(out, loss)\n",
    "        \n",
    "        optimizer.zero_grad()\n",
    "        loss.backward()\n",
    "        optimizer.step()\n",
    "    \n",
    "    print(f'Epoch: {epoch}, Loss: {float(loss)}')\n",
    "\n",
    "\n"
   ]
  },
  {
   "cell_type": "code",
   "execution_count": 21,
   "metadata": {},
   "outputs": [
    {
     "name": "stderr",
     "output_type": "stream",
     "text": [
      "Clipping input data to the valid range for imshow with RGB data ([0..1] for floats or [0..255] for integers).\n"
     ]
    },
    {
     "data": {
      "image/png": "[encoded data removed]",
      "text/plain": "<Figure size 432x288 with 1 Axes>"
     },
     "metadata": {
      "needs_background": "light",
      "transient": {}
     },
     "output_type": "display_data"
    },
    {
     "data": {
      "text/plain": "'bird'"
     },
     "execution_count": 21,
     "metadata": {},
     "output_type": "execute_result"
    }
   ],
   "source": [
    "last_im, last_lab = cifar2[-1]\n",
    "plt.imshow(last_im.permute(1,2,0))\n",
    "plt.show()\n",
    "class_names[last_lab]"
   ]
  },
  {
   "cell_type": "code",
   "execution_count": 29,
   "metadata": {},
   "outputs": [
    {
     "name": "stdout",
     "output_type": "stream",
     "text": [
      "Epoch: 0, Loss: 109.00357818603516\n",
      "Epoch: 1, Loss: 108.99586486816406\n",
      "Epoch: 2, Loss: 108.99671173095703\n",
      "Epoch: 3, Loss: 108.98919677734375\n",
      "Epoch: 4, Loss: 108.99860382080078\n",
      "Epoch: 5, Loss: 109.01142883300781\n",
      "Epoch: 6, Loss: 108.99241638183594\n",
      "Epoch: 7, Loss: 108.99455261230469\n",
      "Epoch: 8, Loss: 108.99349975585938\n",
      "Epoch: 9, Loss: 109.01036071777344\n",
      "Epoch: 10, Loss: 108.99171447753906\n",
      "Epoch: 11, Loss: 108.99595642089844\n",
      "Epoch: 12, Loss: 109.00202941894531\n",
      "Epoch: 13, Loss: 108.98483276367188\n",
      "Epoch: 14, Loss: 108.99591827392578\n",
      "Epoch: 15, Loss: 108.9888687133789\n",
      "Epoch: 16, Loss: 108.99246215820312\n",
      "Epoch: 17, Loss: 108.99421691894531\n",
      "Epoch: 18, Loss: 109.01079559326172\n",
      "Epoch: 19, Loss: 108.98760986328125\n",
      "Epoch: 20, Loss: 109.01862335205078\n",
      "Epoch: 21, Loss: 108.99422454833984\n",
      "Epoch: 22, Loss: 109.01424407958984\n",
      "Epoch: 23, Loss: 108.99829864501953\n",
      "Epoch: 24, Loss: 108.99920654296875\n",
      "Epoch: 25, Loss: 108.99054718017578\n",
      "Epoch: 26, Loss: 108.99830627441406\n",
      "Epoch: 27, Loss: 109.00749206542969\n",
      "Epoch: 28, Loss: 109.00386047363281\n",
      "Epoch: 29, Loss: 108.9937973022461\n",
      "Epoch: 30, Loss: 108.99844360351562\n",
      "Epoch: 31, Loss: 108.99977111816406\n",
      "Epoch: 32, Loss: 108.99934387207031\n",
      "Epoch: 33, Loss: 108.99748992919922\n",
      "Epoch: 34, Loss: 108.99197387695312\n",
      "Epoch: 35, Loss: 108.99549102783203\n",
      "Epoch: 36, Loss: 108.9991683959961\n",
      "Epoch: 37, Loss: 108.99091339111328\n",
      "Epoch: 38, Loss: 109.01271057128906\n",
      "Epoch: 39, Loss: 109.005615234375\n",
      "Epoch: 40, Loss: 109.01155090332031\n",
      "Epoch: 41, Loss: 108.99565887451172\n",
      "Epoch: 42, Loss: 109.00445556640625\n",
      "Epoch: 43, Loss: 108.99624633789062\n",
      "Epoch: 44, Loss: 108.99176788330078\n",
      "Epoch: 45, Loss: 109.00364685058594\n",
      "Epoch: 46, Loss: 108.98924255371094\n",
      "Epoch: 47, Loss: 108.99959564208984\n",
      "Epoch: 48, Loss: 109.01217651367188\n",
      "Epoch: 49, Loss: 109.01627349853516\n",
      "Epoch: 50, Loss: 109.0068588256836\n",
      "Epoch: 51, Loss: 108.99647521972656\n",
      "Epoch: 52, Loss: 108.99746704101562\n",
      "Epoch: 53, Loss: 109.01124572753906\n",
      "Epoch: 54, Loss: 109.00606536865234\n",
      "Epoch: 55, Loss: 109.00221252441406\n",
      "Epoch: 56, Loss: 108.9986343383789\n",
      "Epoch: 57, Loss: 109.00274658203125\n",
      "Epoch: 58, Loss: 109.00801849365234\n",
      "Epoch: 59, Loss: 108.9853286743164\n",
      "Epoch: 60, Loss: 108.99029541015625\n",
      "Epoch: 61, Loss: 108.9971923828125\n",
      "Epoch: 62, Loss: 108.9968490600586\n",
      "Epoch: 63, Loss: 109.000732421875\n",
      "Epoch: 64, Loss: 108.99896240234375\n",
      "Epoch: 65, Loss: 109.00533294677734\n",
      "Epoch: 66, Loss: 109.00595092773438\n",
      "Epoch: 67, Loss: 109.00740051269531\n",
      "Epoch: 68, Loss: 108.99539947509766\n",
      "Epoch: 69, Loss: 108.99925994873047\n",
      "Epoch: 70, Loss: 108.99378204345703\n",
      "Epoch: 71, Loss: 109.01383972167969\n",
      "Epoch: 72, Loss: 109.00394439697266\n",
      "Epoch: 73, Loss: 108.99757385253906\n",
      "Epoch: 74, Loss: 109.0041732788086\n",
      "Epoch: 75, Loss: 108.99368286132812\n",
      "Epoch: 76, Loss: 108.9936294555664\n",
      "Epoch: 77, Loss: 108.99012756347656\n",
      "Epoch: 78, Loss: 108.99337005615234\n",
      "Epoch: 79, Loss: 108.99315643310547\n",
      "Epoch: 80, Loss: 108.99199676513672\n",
      "Epoch: 81, Loss: 109.00045776367188\n",
      "Epoch: 82, Loss: 108.99807739257812\n",
      "Epoch: 83, Loss: 109.00648498535156\n",
      "Epoch: 84, Loss: 109.00116729736328\n",
      "Epoch: 85, Loss: 108.98075103759766\n",
      "Epoch: 86, Loss: 108.99981689453125\n",
      "Epoch: 87, Loss: 109.00566101074219\n",
      "Epoch: 88, Loss: 108.9898452758789\n",
      "Epoch: 89, Loss: 109.01168823242188\n",
      "Epoch: 90, Loss: 108.99944305419922\n",
      "Epoch: 91, Loss: 109.01321411132812\n",
      "Epoch: 92, Loss: 109.00440979003906\n",
      "Epoch: 93, Loss: 108.98565673828125\n",
      "Epoch: 94, Loss: 109.00146484375\n",
      "Epoch: 95, Loss: 108.99604797363281\n",
      "Epoch: 96, Loss: 109.00459289550781\n",
      "Epoch: 97, Loss: 109.00192260742188\n",
      "Epoch: 98, Loss: 108.99430084228516\n",
      "Epoch: 99, Loss: 109.00923919677734\n",
      "Train Accuracy: 50.3%\n",
      "Validation Accuracy: 50.3%\n"
     ]
    },
    {
     "data": {
      "text/plain": "(157, 32)"
     },
     "execution_count": 29,
     "metadata": {},
     "output_type": "execute_result"
    }
   ],
   "source": [
    "transformed_cifar = datasets.CIFAR10(data_path, train=True, download=False,\n",
    "                                     transform=full_transform)\n",
    "transformed_cifar_val = datasets.CIFAR10(data_path, train=False, download=False,\n",
    "                                     transform=full_transform)\n",
    "\n",
    "cifar2 = [(img, label_map[label]) for img, label in transformed_cifar\n",
    "           if label in [0, 2]]\n",
    "\n",
    "cifar2_val = [(img, label_map[label]) for img, label in transformed_cifar_val\n",
    "              if label in [0, 2]]\n",
    "\n",
    "\n",
    "val_loader = torch.utils.data.DataLoader(\n",
    "    cifar2_val, shuffle=True, batch_size = 64\n",
    ")\n",
    "train_loader = torch.utils.data.DataLoader(\n",
    "    cifar2, shuffle=True, batch_size = 64\n",
    ")\n",
    "\n"
   ]
  },
  {
   "cell_type": "code",
   "execution_count": 33,
   "metadata": {},
   "outputs": [
    {
     "name": "stdout",
     "output_type": "stream",
     "text": [
      "Epoch: 0, Loss: 84.38871002197266\n",
      "Epoch: 1, Loss: 76.0609359741211\n",
      "Epoch: 2, Loss: 73.43901062011719\n",
      "Epoch: 3, Loss: 71.5164794921875\n",
      "Epoch: 4, Loss: 69.60853576660156\n",
      "Epoch: 5, Loss: 68.7180404663086\n",
      "Epoch: 6, Loss: 67.3148422241211\n",
      "Epoch: 7, Loss: 65.95840454101562\n",
      "Epoch: 8, Loss: 64.48552703857422\n",
      "Epoch: 9, Loss: 63.88164520263672\n",
      "Epoch: 10, Loss: 62.54171371459961\n",
      "Epoch: 11, Loss: 61.446170806884766\n",
      "Epoch: 12, Loss: 60.1953125\n",
      "Epoch: 13, Loss: 58.9012336730957\n",
      "Epoch: 14, Loss: 58.146724700927734\n",
      "Epoch: 15, Loss: 57.18974304199219\n",
      "Epoch: 16, Loss: 55.52460479736328\n",
      "Epoch: 17, Loss: 55.16371536254883\n",
      "Epoch: 18, Loss: 54.06528091430664\n",
      "Epoch: 19, Loss: 52.81092834472656\n",
      "Epoch: 20, Loss: 51.87251663208008\n",
      "Epoch: 21, Loss: 49.07340621948242\n",
      "Epoch: 22, Loss: 50.1500358581543\n",
      "Epoch: 23, Loss: 47.339942932128906\n",
      "Epoch: 24, Loss: 45.58823776245117\n",
      "Epoch: 25, Loss: 44.784568786621094\n",
      "Epoch: 26, Loss: 42.94601821899414\n",
      "Epoch: 27, Loss: 41.960594177246094\n",
      "Epoch: 28, Loss: 40.80424499511719\n",
      "Epoch: 29, Loss: 39.061954498291016\n",
      "Epoch: 30, Loss: 38.32128143310547\n",
      "Epoch: 31, Loss: 34.19303512573242\n",
      "Epoch: 32, Loss: 35.114498138427734\n",
      "Epoch: 33, Loss: 34.92665481567383\n",
      "Epoch: 34, Loss: 30.768163681030273\n",
      "Epoch: 35, Loss: 29.981298446655273\n",
      "Epoch: 36, Loss: 27.12558937072754\n",
      "Epoch: 37, Loss: 26.174732208251953\n",
      "Epoch: 38, Loss: 26.070310592651367\n",
      "Epoch: 39, Loss: 28.091167449951172\n",
      "Epoch: 40, Loss: 23.88027572631836\n",
      "Epoch: 41, Loss: 24.066001892089844\n",
      "Epoch: 42, Loss: 19.7579288482666\n",
      "Epoch: 43, Loss: 20.3709774017334\n",
      "Epoch: 44, Loss: 17.924381256103516\n",
      "Epoch: 45, Loss: 17.148775100708008\n",
      "Epoch: 46, Loss: 16.108274459838867\n",
      "Epoch: 47, Loss: 16.127445220947266\n",
      "Epoch: 48, Loss: 15.036791801452637\n",
      "Epoch: 49, Loss: 11.002801895141602\n",
      "Train Accuracy: 90.15%\n",
      "Validation Accuracy: 72.2%\n"
     ]
    },
    {
     "data": {
      "text/plain": "(157, 32)"
     },
     "execution_count": 33,
     "metadata": {},
     "output_type": "execute_result"
    }
   ],
   "source": [
    "model = nn.Sequential(\n",
    "    nn.Linear(n_in, 1024),\n",
    "    nn.Tanh(),\n",
    "    nn.Linear(1024, 512),\n",
    "    nn.Tanh(),\n",
    "    nn.Linear(512, 128),\n",
    "    nn.Tanh(),\n",
    "    nn.Linear(128, 2)\n",
    ")\n"
   ]
  },
  {
   "cell_type": "code",
   "execution_count": 34,
   "metadata": {},
   "outputs": [
    {
     "name": "stdout",
     "output_type": "stream",
     "text": [
      "Epoch: 0, Loss: 12.918100357055664\n",
      "Epoch: 1, Loss: 15.225387573242188\n",
      "Epoch: 2, Loss: 12.109886169433594\n",
      "Epoch: 3, Loss: 7.4108452796936035\n",
      "Epoch: 4, Loss: 11.20306396484375\n",
      "Epoch: 5, Loss: 11.787881851196289\n",
      "Epoch: 6, Loss: 5.823843479156494\n",
      "Epoch: 7, Loss: 6.7023797035217285\n",
      "Epoch: 8, Loss: 17.111068725585938\n",
      "Epoch: 9, Loss: 4.682060241699219\n",
      "Epoch: 10, Loss: 9.952017784118652\n",
      "Epoch: 11, Loss: 3.8803508281707764\n",
      "Epoch: 12, Loss: 5.321928977966309\n",
      "Epoch: 13, Loss: 3.3652186393737793\n",
      "Epoch: 14, Loss: 13.122331619262695\n",
      "Epoch: 15, Loss: 4.3877387046813965\n",
      "Epoch: 16, Loss: 7.369874000549316\n",
      "Epoch: 17, Loss: 2.7749433517456055\n",
      "Epoch: 18, Loss: 9.063002586364746\n",
      "Epoch: 19, Loss: 2.7458572387695312\n",
      "Epoch: 20, Loss: 2.0074310302734375\n",
      "Epoch: 21, Loss: 9.737308502197266\n",
      "Epoch: 22, Loss: 1.6874529123306274\n",
      "Epoch: 23, Loss: 2.2829036712646484\n",
      "Epoch: 24, Loss: 3.061102867126465\n",
      "Epoch: 25, Loss: 1.318558692932129\n",
      "Epoch: 26, Loss: 19.6806697845459\n",
      "Epoch: 27, Loss: 5.739502906799316\n",
      "Epoch: 28, Loss: 1.5524885654449463\n",
      "Epoch: 29, Loss: 1.1384234428405762\n",
      "Epoch: 30, Loss: 0.9545597434043884\n",
      "Epoch: 31, Loss: 5.43593168258667\n",
      "Epoch: 32, Loss: 0.9827894568443298\n",
      "Epoch: 33, Loss: 1.3030343055725098\n",
      "Epoch: 34, Loss: 0.788874626159668\n",
      "Epoch: 35, Loss: 1.0591853857040405\n",
      "Epoch: 36, Loss: 0.631714940071106\n",
      "Epoch: 37, Loss: 0.6747035980224609\n",
      "Epoch: 38, Loss: 0.7239481210708618\n",
      "Epoch: 39, Loss: 0.8282986879348755\n",
      "Epoch: 40, Loss: 0.554649829864502\n",
      "Epoch: 41, Loss: 0.37090229988098145\n",
      "Epoch: 42, Loss: 0.3455742597579956\n",
      "Epoch: 43, Loss: 0.3136661946773529\n",
      "Epoch: 44, Loss: 0.27012500166893005\n",
      "Epoch: 45, Loss: 0.3527752757072449\n",
      "Epoch: 46, Loss: 0.48916295170783997\n",
      "Epoch: 47, Loss: 21.28618049621582\n",
      "Epoch: 48, Loss: 0.6639137268066406\n",
      "Epoch: 49, Loss: 0.489594042301178\n",
      "Train Accuracy: 99.99%\n",
      "Validation Accuracy: 80.7%\n"
     ]
    },
    {
     "data": {
      "text/plain": "(157, 32)"
     },
     "execution_count": 34,
     "metadata": {},
     "output_type": "execute_result"
    }
   ],
   "source": [
    "\n",
    "learning_rate = 1e-2\n",
    "optimizer = optim.SGD(model.parameters(), lr=learning_rate)\n",
    "n_epochs = 50 \n",
    "loss_fn = nn.CrossEntropyLoss()\n",
    "\n",
    "for epoch in range(n_epochs):\n",
    "    batch_loss = 0\n",
    "    for imgs, labels in train_loader:\n",
    "        batch_size = imgs.shape[0]\n",
    "        outputs = model(imgs.view(batch_size, -1))\n",
    "        loss = loss_fn(outputs, labels)\n",
    "        \n",
    "        batch_loss += loss\n",
    "        \n",
    "        optimizer.zero_grad()\n",
    "        loss.backward()\n",
    "        optimizer.step()\n",
    "    \n",
    "    print(f'Epoch: {epoch}, Loss: {float(batch_loss)}')\n",
    "\n",
    "\n",
    "correct, total = 0, 0\n",
    "\n",
    "with torch.no_grad():\n",
    "    for imgs, labels in train_loader:\n",
    "        batch_size = imgs.shape[0]\n",
    "        outputs = model(imgs.view(batch_size, -1))\n",
    "        huh, predicted = torch.max(outputs, dim=1)\n",
    "        total += labels.shape[0]\n",
    "        correct += int((predicted == labels).sum())\n",
    "        \n",
    "print(f'Train Accuracy: {correct * 100/ total}%'), correct, total\n",
    "\n",
    "\n",
    "t_correct, t_total = 0, 0\n",
    "with torch.no_grad():\n",
    "    for imgs, labels in val_loader:\n",
    "        batch_size = imgs.shape[0]\n",
    "        outputs = model(imgs.view(batch_size, -1))\n",
    "        huh, predicted = torch.max(outputs, dim=1)\n",
    "        t_total += labels.shape[0]\n",
    "        t_correct += int((predicted == labels).sum())\n",
    "        \n",
    "print(f'Validation Accuracy: {t_correct * 100/ t_total}%'), t_correct, t_total\n",
    "\n",
    "len(train_loader), len(val_loader)"
   ]
  },
  {
   "cell_type": "code",
   "execution_count": 38,
   "metadata": {},
   "outputs": [
    {
     "data": {
      "text/plain": "(3737474, [3145728, 1024, 524288, 512, 65536, 128, 256, 2], 3737474)"
     },
     "execution_count": 38,
     "metadata": {},
     "output_type": "execute_result"
    }
   ],
   "source": [
    "numel_list = [p.numel()\n",
    "              for p in model.parameters()\n",
    "              if p.requires_grad == True]\n",
    "\n",
    "numel_list_full = [p.numel()\n",
    "                   for p in model.parameters()]\n",
    "sum(numel_list), numel_list, sum(numel_list_full)"
   ]
  },
  {
   "cell_type": "code",
   "execution_count": 24,
   "metadata": {},
   "outputs": [],
   "source": []
  }
 ],
 "metadata": {
  "kernelspec": {
   "display_name": "Python 3.8.10 64-bit ('venv': venv)",
   "metadata": {
    "interpreter": {
     "hash": "d6a4bbd05ce9c893b429f45c3c159d278c088d407cccb8e9de1a5ef0145565cd"
    }
   },
   "name": "python3"
  },
  "language_info": {
   "codemirror_mode": {
    "name": "ipython",
    "version": 3
   },
   "file_extension": ".py",
   "mimetype": "text/x-python",
   "name": "python",
   "nbconvert_exporter": "python",
   "pygments_lexer": "ipython3",
   "version": "3.8.10-final"
  },
  "orig_nbformat": 2
 },
 "nbformat": 4,
 "nbformat_minor": 2
}