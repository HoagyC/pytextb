{
 "cells": [
  {
   "cell_type": "code",
   "execution_count": 4,
   "metadata": {},
   "outputs": [
    {
     "data": {
      "text/plain": "tensor([[1.2326],\n        [3.7667]], grad_fn=<AddmmBackward0>)"
     },
     "execution_count": 4,
     "metadata": {},
     "output_type": "execute_result"
    }
   ],
   "source": [
    "import torch\n",
    "import torch.nn as nn\n",
    "\n",
    "linear_model = nn.Linear(1, 1)\n",
    "t = torch.tensor([[1.2999999], [3.9]])\n",
    "linear_model(t)"
   ]
  },
  {
   "cell_type": "code",
   "execution_count": 5,
   "metadata": {},
   "outputs": [
    {
     "data": {
      "text/plain": "(Parameter containing:\n tensor([[0.9747]], requires_grad=True),\n Parameter containing:\n tensor([-0.0345], requires_grad=True))"
     },
     "execution_count": 5,
     "metadata": {},
     "output_type": "execute_result"
    }
   ],
   "source": [
    "linear_model.weight, linear_model.bias"
   ]
  },
  {
   "cell_type": "code",
   "execution_count": 6,
   "metadata": {},
   "outputs": [
    {
     "data": {
      "text/plain": "(<generator object Module.parameters at 0x7fa60c35aac0>,\n [Parameter containing:\n  tensor([[0.9747]], requires_grad=True),\n  Parameter containing:\n  tensor([-0.0345], requires_grad=True)])"
     },
     "execution_count": 6,
     "metadata": {},
     "output_type": "execute_result"
    }
   ],
   "source": [
    "x = torch.ones(2, 1)\n",
    "linear_model(x)\n",
    "x.unsqueeze_(0).unsqueeze_(0)\n",
    "x\n",
    "linear_model.parameters(), list(linear_model.parameters())"
   ]
  },
  {
   "cell_type": "code",
   "execution_count": 7,
   "metadata": {},
   "outputs": [
    {
     "data": {
      "text/plain": "tensor(1.4700)"
     },
     "execution_count": 7,
     "metadata": {},
     "output_type": "execute_result"
    }
   ],
   "source": [
    "t_c = [0.5,  14.0, 15.0, 28.0, 11.0,  8.0,  3.0, -4.0,  6.0, 13.0, 21.0]\n",
    "t_u = [35.7, 55.9, 58.2, 81.9, 56.3, 48.9, 33.9, 21.8, 48.4, 60.4, 68.4]\n",
    "t_c = torch.tensor(t_c)\n",
    "t_u = torch.tensor(t_u)\n",
    "\n",
    "t_u.shape\n",
    "n_samples = t_u.shape[0]\n",
    "n_val = int(0.2 * n_samples)\n",
    "\n",
    "shuffled_indices = torch.randperm(n_samples)\n",
    "shuffled_indices\n",
    "\n",
    "train_indices = shuffled_indices[:-n_val]\n",
    "validation_indices = shuffled_indices[-n_val:]\n",
    "\n",
    "train_indices, validation_indices\n",
    "\n",
    "train_t_u = t_u[train_indices].unsqueeze_(1)\n",
    "train_t_c = t_c[train_indices].unsqueeze_(1)\n",
    "\n",
    "val_t_u = t_u[validation_indices].unsqueeze_(1)\n",
    "val_t_c = t_c[validation_indices].unsqueeze_(1)\n",
    "\n",
    "def loss_fn(t_u, t_c):\n",
    "    loss = ((t_u - t_c)**2).sum()\n",
    "    return loss\n",
    "\n",
    "loss_fn(torch.tensor([1,2,3]), torch.tensor([0.9, 0.9, 3.5]))"
   ]
  },
  {
   "cell_type": "code",
   "execution_count": 8,
   "metadata": {},
   "outputs": [],
   "source": [
    "def training_loop(n_epochs, optimizer, model, loss_fn, t_u_train, \n",
    "                  t_u_val, t_c_train, t_c_val):\n",
    "    for epoch in range(1, n_epochs + 1):\n",
    "        t_p_train = model(t_u_train)\n",
    "        loss_train = loss_fn(t_p_train, t_c_train)\n",
    "        \n",
    "        t_p_val = model(t_u_val)\n",
    "        loss_val = loss_fn(t_p_val, t_c_val)\n",
    "        \n",
    "        optimizer.zero_grad()\n",
    "        loss_train.backward()\n",
    "        # print(model.hidden_linear.weight.grad)\n",
    "        \n",
    "        optimizer.step()\n",
    "        \n",
    "        if epoch % 500 == 0:\n",
    "            print(f'Epoch {epoch}, Training loss {loss_train.item():.4f}')\n",
    "            print(f'    Validation loss {loss_val.item():.4f}')\n"
   ]
  },
  {
   "cell_type": "code",
   "execution_count": 9,
   "metadata": {},
   "outputs": [
    {
     "name": "stdout",
     "output_type": "stream",
     "text": [
      "Epoch 500, Training loss 5.6785\n",
      "    Validation loss 21.9305\n",
      "Epoch 1000, Training loss 3.0104\n",
      "    Validation loss 6.4761\n",
      "Epoch 1500, Training loss 2.9726\n",
      "    Validation loss 5.1805\n",
      "Epoch 2000, Training loss 2.9725\n",
      "    Validation loss 5.1325\n",
      "Epoch 2500, Training loss 2.9725\n",
      "    Validation loss 5.1322\n",
      "Epoch 3000, Training loss 2.9725\n",
      "    Validation loss 5.1321\n",
      "Epoch 3500, Training loss 2.9725\n",
      "    Validation loss 5.1321\n",
      "Epoch 4000, Training loss 2.9725\n",
      "    Validation loss 5.1321\n",
      "Epoch 4500, Training loss 2.9725\n",
      "    Validation loss 5.1321\n",
      "Epoch 5000, Training loss 2.9725\n",
      "    Validation loss 5.1320\n",
      "Epoch 5500, Training loss 2.9727\n",
      "    Validation loss 5.2194\n",
      "Epoch 6000, Training loss 2.9725\n",
      "    Validation loss 5.1320\n",
      "Epoch 6500, Training loss 2.9725\n",
      "    Validation loss 5.1321\n",
      "Epoch 7000, Training loss 2.9725\n",
      "    Validation loss 5.1320\n",
      "Epoch 7500, Training loss 2.9729\n",
      "    Validation loss 5.0044\n",
      "Epoch 8000, Training loss 2.9725\n",
      "    Validation loss 5.1368\n",
      "Epoch 8500, Training loss 2.9725\n",
      "    Validation loss 5.1321\n",
      "Epoch 9000, Training loss 2.9725\n",
      "    Validation loss 5.1451\n",
      "Epoch 9500, Training loss 2.9725\n",
      "    Validation loss 5.1320\n",
      "Epoch 10000, Training loss 2.9725\n",
      "    Validation loss 5.1324\n"
     ]
    }
   ],
   "source": [
    "import torch.optim as optim\n",
    "\n",
    "linear_model = nn.Linear(1, 1)\n",
    "optimizer = optim.Adam(linear_model.parameters(), lr=0.1)\n",
    "\n",
    "params = training_loop(\n",
    "    n_epochs=10000,\n",
    "    optimizer=optimizer,\n",
    "    model=linear_model,\n",
    "    loss_fn=nn.MSELoss(),\n",
    "    t_u_train=train_t_u,\n",
    "    t_c_train=train_t_c,\n",
    "    t_c_val=val_t_c,\n",
    "    t_u_val=val_t_u\n",
    ")"
   ]
  },
  {
   "cell_type": "code",
   "execution_count": 10,
   "metadata": {},
   "outputs": [
    {
     "data": {
      "text/plain": "(Parameter containing:\n tensor([-16.0064], requires_grad=True),\n Parameter containing:\n tensor([[0.5040]], requires_grad=True))"
     },
     "execution_count": 10,
     "metadata": {},
     "output_type": "execute_result"
    }
   ],
   "source": [
    "linear_model.bias, linear_model.weight"
   ]
  },
  {
   "cell_type": "code",
   "execution_count": 11,
   "metadata": {},
   "outputs": [
    {
     "data": {
      "text/plain": "(Sequential(\n   (0): Linear(in_features=1, out_features=13, bias=True)\n   (1): Tanh()\n   (2): Linear(in_features=13, out_features=1, bias=True)\n ),\n [Parameter containing:\n  tensor([[ 0.3807],\n          [ 0.0495],\n          [-0.7050],\n          [ 0.5971],\n          [-0.4850],\n          [ 0.6231],\n          [-0.8809],\n          [-0.9657],\n          [-0.3604],\n          [ 0.6533],\n          [ 0.2142],\n          [ 0.7012],\n          [ 0.8259]], requires_grad=True),\n  Parameter containing:\n  tensor([ 0.3919,  0.9131,  0.5843,  0.2170,  0.0036,  0.5820, -0.1230, -0.0416,\n          -0.6134,  0.8160,  0.7807,  0.1644,  0.0200], requires_grad=True),\n  Parameter containing:\n  tensor([[-0.0394, -0.0236, -0.1129,  0.0835, -0.1775, -0.0183, -0.1539, -0.1141,\n            0.0556, -0.1768, -0.1651,  0.1102,  0.0501]], requires_grad=True),\n  Parameter containing:\n  tensor([-0.0973], requires_grad=True)],\n [torch.Size([13, 1]), torch.Size([13]), torch.Size([1, 13]), torch.Size([1])])"
     },
     "execution_count": 11,
     "metadata": {},
     "output_type": "execute_result"
    }
   ],
   "source": [
    "seq_model = nn.Sequential(\n",
    "    nn.Linear(1, 13),\n",
    "    nn.Tanh(),\n",
    "    nn.Linear(13, 1)\n",
    ")\n",
    "\n",
    "seq_model, list(seq_model.parameters()), [p.shape for p in seq_model.parameters()]"
   ]
  },
  {
   "cell_type": "code",
   "execution_count": 12,
   "metadata": {},
   "outputs": [],
   "source": [
    "from collections import OrderedDict\n",
    "\n",
    "seq_model = nn.Sequential(OrderedDict([\n",
    "    ('hidden_linear', nn.Linear(1, 50)),\n",
    "    ('hidden _activation', nn.Tanh()),\n",
    "    ('output_linear', nn.Linear(50, 1))\n",
    "]))"
   ]
  },
  {
   "cell_type": "code",
   "execution_count": 13,
   "metadata": {},
   "outputs": [
    {
     "name": "stdout",
     "output_type": "stream",
     "text": [
      "hidden_linear.weight torch.Size([50, 1])\n",
      "hidden_linear.bias torch.Size([50])\n",
      "output_linear.weight torch.Size([1, 50])\n",
      "output_linear.bias torch.Size([1])\n"
     ]
    },
    {
     "data": {
      "text/plain": "Parameter containing:\ntensor([-0.0579], requires_grad=True)"
     },
     "execution_count": 13,
     "metadata": {},
     "output_type": "execute_result"
    }
   ],
   "source": [
    "for name, param in seq_model.named_parameters():\n",
    "    print(name, param.shape)\n",
    "    \n",
    "seq_model.output_linear.bias"
   ]
  },
  {
   "cell_type": "code",
   "execution_count": 14,
   "metadata": {},
   "outputs": [
    {
     "name": "stdout",
     "output_type": "stream",
     "text": [
      "Epoch 500, Training loss 88.9327\n",
      "    Validation loss 424.3661\n",
      "Epoch 1000, Training loss 66.5249\n",
      "    Validation loss 349.2887\n",
      "Epoch 1500, Training loss 52.2778\n",
      "    Validation loss 292.0929\n",
      "Epoch 2000, Training loss 43.1479\n",
      "    Validation loss 248.8533\n",
      "Epoch 2500, Training loss 36.8437\n",
      "    Validation loss 215.5152\n",
      "Epoch 3000, Training loss 32.2718\n",
      "    Validation loss 189.7220\n",
      "Epoch 3500, Training loss 28.4578\n",
      "    Validation loss 169.1539\n",
      "Epoch 4000, Training loss 25.0955\n",
      "    Validation loss 152.1056\n",
      "Epoch 4500, Training loss 21.9436\n",
      "    Validation loss 137.5216\n",
      "Epoch 5000, Training loss 18.9406\n",
      "    Validation loss 124.5877\n",
      "Epoch 5500, Training loss 16.1086\n",
      "    Validation loss 112.7553\n",
      "Epoch 6000, Training loss 13.5067\n",
      "    Validation loss 101.6619\n",
      "Epoch 6500, Training loss 11.1974\n",
      "    Validation loss 91.0817\n",
      "Epoch 7000, Training loss 9.2247\n",
      "    Validation loss 80.8968\n",
      "Epoch 7500, Training loss 7.6036\n",
      "    Validation loss 71.0697\n",
      "Epoch 8000, Training loss 6.3186\n",
      "    Validation loss 61.6349\n",
      "Epoch 8500, Training loss 5.3290\n",
      "    Validation loss 52.6573\n",
      "Epoch 9000, Training loss 4.5802\n",
      "    Validation loss 44.4295\n",
      "Epoch 9500, Training loss 4.0161\n",
      "    Validation loss 36.9565\n",
      "Epoch 10000, Training loss 3.5888\n",
      "    Validation loss 30.3994\n"
     ]
    },
    {
     "data": {
      "text/plain": "Linear(in_features=1, out_features=1, bias=True)"
     },
     "execution_count": 14,
     "metadata": {},
     "output_type": "execute_result"
    }
   ],
   "source": [
    "seq_optim = optim.Adam(seq_model.parameters(), lr=1e-4)\n",
    "\n",
    "training_loop(\n",
    "    n_epochs=10000,\n",
    "    optimizer=seq_optim,\n",
    "    model=seq_model,\n",
    "    loss_fn=nn.MSELoss(),\n",
    "    t_u_train=train_t_u,\n",
    "    t_c_train=train_t_c,\n",
    "    t_u_val=val_t_u,\n",
    "    t_c_val=val_t_c\n",
    ")\n",
    "\n",
    "linear_model"
   ]
  },
  {
   "cell_type": "code",
   "execution_count": 15,
   "metadata": {},
   "outputs": [
    {
     "data": {
      "text/plain": "(Parameter containing:\n tensor([[0.5040]], requires_grad=True),\n Parameter containing:\n tensor([-16.0064], requires_grad=True))"
     },
     "execution_count": 15,
     "metadata": {},
     "output_type": "execute_result"
    }
   ],
   "source": [
    "linear_model.weight, linear_model.bias"
   ]
  },
  {
   "cell_type": "code",
   "execution_count": 16,
   "metadata": {},
   "outputs": [
    {
     "data": {
      "text/plain": "[<matplotlib.lines.Line2D at 0x7fa6034da5e0>]"
     },
     "execution_count": 16,
     "metadata": {},
     "output_type": "execute_result"
    },
    {
     "data": {
      "image/png": "[encoded data removed]",
      "text/plain": "<Figure size 432x288 with 1 Axes>"
     },
     "metadata": {
      "needs_background": "light",
      "transient": {}
     },
     "output_type": "display_data"
    }
   ],
   "source": [
    "from matplotlib import pyplot as plt\n",
    "import numpy as np\n",
    "\n",
    "plt.plot(train_t_u, train_t_c, 'o')\n",
    "plt.plot(val_t_u, val_t_c, 'o')\n",
    "input_t = torch.tensor(np.arange(20, 85, 0.1)).unsqueeze_(1).to(torch.float32)\n",
    "plt.plot(np.arange(20,85,0.1), [seq_model(a).item() for a in input_t])"
   ]
  },
  {
   "cell_type": "code",
   "execution_count": 17,
   "metadata": {},
   "outputs": [
    {
     "data": {
      "text/plain": "torch.Size([4898, 12])"
     },
     "execution_count": 17,
     "metadata": {},
     "output_type": "execute_result"
    }
   ],
   "source": [
    "wine_path = '../dlwpt-code/data/p1ch4/tabular-wine/winequality-white.csv'\n",
    "wine_data = np.loadtxt(wine_path, skiprows=1, delimiter=';', dtype='float32')\n",
    "wine_t = torch.from_numpy(wine_data)\n",
    "wine_t.shape"
   ]
  },
  {
   "cell_type": "code",
   "execution_count": 53,
   "metadata": {},
   "outputs": [
    {
     "name": "stdout",
     "output_type": "stream",
     "text": [
      "tensor([2398, 3155, 3635, 1385, 1594,   44, 2532,  800,  820, 3771])\n"
     ]
    },
    {
     "data": {
      "text/plain": "(torch.Size([3919, 10]),\n torch.Size([3919, 10]),\n torch.Size([979, 10]),\n torch.Size([979, 10]))"
     },
     "execution_count": 53,
     "metadata": {},
     "output_type": "execute_result"
    }
   ],
   "source": [
    "wine_model = nn.Sequential(\n",
    "    nn.Linear(10, 50),\n",
    "    nn.ReLU(),\n",
    "    nn.Linear(50, 10),\n",
    "    nn.Softmax()\n",
    ")\n",
    "\n",
    "val_prop = 0.2\n",
    "\n",
    "n_row, n_col = wine_t.shape\n",
    "\n",
    "n_val = int(n_row * val_prop)\n",
    "val_indices = torch.randperm(n_row)\n",
    "\n",
    "print(val_indices[:10])\n",
    "wine_train_i = wine_t[val_indices[:-n_val], :n_col - 2]\n",
    "wine_train_s = wine_t[val_indices[:-n_val], n_col - 1].to(torch.int64).unsqueeze_(1)\n",
    "wine_train_o = torch.zeros([wine_train_s.shape[0], 10])\n",
    "wine_train_o = wine_train_o.scatter_(1, wine_train_s, 1.0)\n",
    "\n",
    "wine_val_i = wine_t[val_indices[-n_val:], :n_col - 2]\n",
    "wine_val_s = wine_t[val_indices[-n_val:], n_col - 1].to(torch.int64).unsqueeze_(1)\n",
    "wine_val_o = torch.zeros([wine_val_s.shape[0], 10])\n",
    "wine_val_o = wine_val_o.scatter_(1, wine_val_s, 1.0)\n",
    "\n",
    "wine_train_i.shape, wine_train_o.shape, wine_val_i.shape, wine_val_o.shape"
   ]
  },
  {
   "cell_type": "code",
   "execution_count": 58,
   "metadata": {},
   "outputs": [],
   "source": [
    "import torch.optim as optim\n",
    "\n",
    "wine_optim = optim.Adam(wine_model.parameters(), lr=1e-1)\n",
    "\n",
    "def training_loop(n_epochs, optimizer, model, loss_fn, t_u_train, \n",
    "                  t_u_val, t_c_train, t_c_val):\n",
    "    for epoch in range(1, n_epochs + 1):\n",
    "        t_p_train = model(t_u_train)\n",
    "        loss_train = loss_fn(t_p_train, t_c_train)\n",
    "        \n",
    "        t_p_val = model(t_u_val)\n",
    "        loss_val = loss_fn(t_p_val, t_c_val)\n",
    "        \n",
    "        optimizer.zero_grad()\n",
    "        \n",
    "        loss_train.backward()\n",
    "        optimizer.step()\n",
    "        \n",
    "        if epoch % 500 == 0:\n",
    "            print(f'Epoch {epoch}, Training loss {loss_train.item():.4f}')\n",
    "            print(f'    Validation loss {loss_val.item():.4f}')\n"
   ]
  },
  {
   "cell_type": "code",
   "execution_count": 59,
   "metadata": {},
   "outputs": [
    {
     "name": "stderr",
     "output_type": "stream",
     "text": [
      "/home/hoagy/AIS/muz/venv/lib/python3.8/site-packages/torch/nn/modules/container.py:141: UserWarning: Implicit dimension choice for softmax has been deprecated. Change the call to include dim=X as an argument.\n",
      "  input = module(input)\n"
     ]
    },
    {
     "name": "stdout",
     "output_type": "stream",
     "text": [
      "Epoch 500, Training loss 2.0115\n",
      "    Validation loss 2.0158\n",
      "Epoch 1000, Training loss 2.0115\n",
      "    Validation loss 2.0158\n",
      "Epoch 1500, Training loss 2.0115\n",
      "    Validation loss 2.0158\n",
      "Epoch 2000, Training loss 2.0115\n",
      "    Validation loss 2.0158\n",
      "Epoch 2500, Training loss 2.0115\n",
      "    Validation loss 2.0158\n",
      "Epoch 3000, Training loss 2.0115\n",
      "    Validation loss 2.0158\n",
      "Epoch 3500, Training loss 2.0115\n",
      "    Validation loss 2.0158\n",
      "Epoch 4000, Training loss 2.0115\n",
      "    Validation loss 2.0158\n",
      "Epoch 4500, Training loss 2.0115\n",
      "    Validation loss 2.0158\n",
      "Epoch 5000, Training loss 2.0115\n",
      "    Validation loss 2.0158\n"
     ]
    }
   ],
   "source": [
    "training_loop(\n",
    "    n_epochs=5000,\n",
    "    optimizer=wine_optim,\n",
    "    model=wine_model,\n",
    "    loss_fn=nn.CrossEntropyLoss(),\n",
    "    t_u_train=wine_train_i,\n",
    "    t_c_train=wine_train_o,\n",
    "    t_u_val=wine_val_i,\n",
    "    t_c_val=wine_val_o\n",
    ")"
   ]
  },
  {
   "cell_type": "code",
   "execution_count": null,
   "metadata": {},
   "outputs": [],
   "source": []
  }
 ],
 "metadata": {
  "kernelspec": {
   "display_name": "Python 3.8.10 64-bit ('venv')",
   "metadata": {
    "interpreter": {
     "hash": "d6a4bbd05ce9c893b429f45c3c159d278c088d407cccb8e9de1a5ef0145565cd"
    }
   },
   "name": "python3"
  },
  "language_info": {
   "codemirror_mode": {
    "name": "ipython",
    "version": 3
   },
   "file_extension": ".py",
   "mimetype": "text/x-python",
   "name": "python",
   "nbconvert_exporter": "python",
   "pygments_lexer": "ipython3",
   "version": "3.8.10"
  },
  "orig_nbformat": 2
 },
 "nbformat": 4,
 "nbformat_minor": 2
}