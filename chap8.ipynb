{
 "cells": [
  {
   "cell_type": "code",
   "execution_count": 1,
   "metadata": {},
   "outputs": [],
   "source": [
    "import torch\n",
    "import torch.nn as nn\n",
    "import torch.optim as optim\n",
    "\n",
    "import numpy as np\n",
    "\n",
    "from matplotlib import pyplot as plt"
   ]
  },
  {
   "cell_type": "code",
   "execution_count": 2,
   "metadata": {},
   "outputs": [
    {
     "data": {
      "text/plain": "(Conv2d(3, 16, kernel_size=(3, 3), stride=(1, 1)), torch.Size([16, 3, 3, 3]))"
     },
     "execution_count": 2,
     "metadata": {},
     "output_type": "execute_result"
    }
   ],
   "source": [
    "conv = nn.Conv2d(3, 16, kernel_size=3)\n",
    "conv, conv.weight.shape"
   ]
  },
  {
   "cell_type": "code",
   "execution_count": 3,
   "metadata": {},
   "outputs": [
    {
     "name": "stdout",
     "output_type": "stream",
     "text": [
      "Files already downloaded and verified\n"
     ]
    }
   ],
   "source": [
    "from torchvision import datasets, transforms\n",
    "data_path = './data/p1ch7/'\n",
    "cifar10 = datasets.CIFAR10(data_path, train=True, download=True, transform=transforms.ToTensor())"
   ]
  },
  {
   "cell_type": "code",
   "execution_count": 4,
   "metadata": {},
   "outputs": [
    {
     "data": {
      "text/plain": "<matplotlib.image.AxesImage at 0x7fb9c82a96d0>"
     },
     "execution_count": 4,
     "metadata": {},
     "output_type": "execute_result"
    },
    {
     "data": {
      "image/png": "[encoded data removed]",
      "text/plain": "<Figure size 432x288 with 1 Axes>"
     },
     "metadata": {
      "needs_background": "light",
      "transient": {}
     },
     "output_type": "display_data"
    }
   ],
   "source": [
    "cifar10[0]\n",
    "plt.imshow(cifar10[0][0].permute(1,2,0).numpy())"
   ]
  },
  {
   "cell_type": "code",
   "execution_count": 5,
   "metadata": {},
   "outputs": [
    {
     "data": {
      "text/plain": "(torch.Size([1, 3, 32, 32]), torch.Size([1, 16, 30, 30]))"
     },
     "execution_count": 5,
     "metadata": {},
     "output_type": "execute_result"
    }
   ],
   "source": [
    "img, label = cifar10[0]\n",
    "output = conv(img.unsqueeze(0))\n",
    "img.unsqueeze(0).shape, output.shape"
   ]
  },
  {
   "cell_type": "code",
   "execution_count": 6,
   "metadata": {},
   "outputs": [
    {
     "data": {
      "text/plain": "torch.Size([1, 16, 32, 32])"
     },
     "execution_count": 6,
     "metadata": {},
     "output_type": "execute_result"
    }
   ],
   "source": [
    "pad_conv = nn.Conv2d(3, 16, kernel_size=3, padding=1)\n",
    "out_pad = pad_conv(img.unsqueeze(0))\n",
    "out_pad.shape"
   ]
  },
  {
   "cell_type": "code",
   "execution_count": 7,
   "metadata": {},
   "outputs": [
    {
     "data": {
      "text/plain": "(Parameter containing:\n tensor([[[[0.1111, 0.1111, 0.1111],\n           [0.1111, 0.1111, 0.1111],\n           [0.1111, 0.1111, 0.1111]],\n \n          [[0.1111, 0.1111, 0.1111],\n           [0.1111, 0.1111, 0.1111],\n           [0.1111, 0.1111, 0.1111]],\n \n          [[0.1111, 0.1111, 0.1111],\n           [0.1111, 0.1111, 0.1111],\n           [0.1111, 0.1111, 0.1111]]],\n \n \n         [[[0.1111, 0.1111, 0.1111],\n           [0.1111, 0.1111, 0.1111],\n           [0.1111, 0.1111, 0.1111]],\n \n          [[0.1111, 0.1111, 0.1111],\n           [0.1111, 0.1111, 0.1111],\n           [0.1111, 0.1111, 0.1111]],\n \n          [[0.1111, 0.1111, 0.1111],\n           [0.1111, 0.1111, 0.1111],\n           [0.1111, 0.1111, 0.1111]]],\n \n \n         [[[0.1111, 0.1111, 0.1111],\n           [0.1111, 0.1111, 0.1111],\n           [0.1111, 0.1111, 0.1111]],\n \n          [[0.1111, 0.1111, 0.1111],\n           [0.1111, 0.1111, 0.1111],\n           [0.1111, 0.1111, 0.1111]],\n \n          [[0.1111, 0.1111, 0.1111],\n           [0.1111, 0.1111, 0.1111],\n           [0.1111, 0.1111, 0.1111]]],\n \n \n         [[[0.1111, 0.1111, 0.1111],\n           [0.1111, 0.1111, 0.1111],\n           [0.1111, 0.1111, 0.1111]],\n \n          [[0.1111, 0.1111, 0.1111],\n           [0.1111, 0.1111, 0.1111],\n           [0.1111, 0.1111, 0.1111]],\n \n          [[0.1111, 0.1111, 0.1111],\n           [0.1111, 0.1111, 0.1111],\n           [0.1111, 0.1111, 0.1111]]],\n \n \n         [[[0.1111, 0.1111, 0.1111],\n           [0.1111, 0.1111, 0.1111],\n           [0.1111, 0.1111, 0.1111]],\n \n          [[0.1111, 0.1111, 0.1111],\n           [0.1111, 0.1111, 0.1111],\n           [0.1111, 0.1111, 0.1111]],\n \n          [[0.1111, 0.1111, 0.1111],\n           [0.1111, 0.1111, 0.1111],\n           [0.1111, 0.1111, 0.1111]]],\n \n \n         [[[0.1111, 0.1111, 0.1111],\n           [0.1111, 0.1111, 0.1111],\n           [0.1111, 0.1111, 0.1111]],\n \n          [[0.1111, 0.1111, 0.1111],\n           [0.1111, 0.1111, 0.1111],\n           [0.1111, 0.1111, 0.1111]],\n \n          [[0.1111, 0.1111, 0.1111],\n           [0.1111, 0.1111, 0.1111],\n           [0.1111, 0.1111, 0.1111]]],\n \n \n         [[[0.1111, 0.1111, 0.1111],\n           [0.1111, 0.1111, 0.1111],\n           [0.1111, 0.1111, 0.1111]],\n \n          [[0.1111, 0.1111, 0.1111],\n           [0.1111, 0.1111, 0.1111],\n           [0.1111, 0.1111, 0.1111]],\n \n          [[0.1111, 0.1111, 0.1111],\n           [0.1111, 0.1111, 0.1111],\n           [0.1111, 0.1111, 0.1111]]],\n \n \n         [[[0.1111, 0.1111, 0.1111],\n           [0.1111, 0.1111, 0.1111],\n           [0.1111, 0.1111, 0.1111]],\n \n          [[0.1111, 0.1111, 0.1111],\n           [0.1111, 0.1111, 0.1111],\n           [0.1111, 0.1111, 0.1111]],\n \n          [[0.1111, 0.1111, 0.1111],\n           [0.1111, 0.1111, 0.1111],\n           [0.1111, 0.1111, 0.1111]]],\n \n \n         [[[0.1111, 0.1111, 0.1111],\n           [0.1111, 0.1111, 0.1111],\n           [0.1111, 0.1111, 0.1111]],\n \n          [[0.1111, 0.1111, 0.1111],\n           [0.1111, 0.1111, 0.1111],\n           [0.1111, 0.1111, 0.1111]],\n \n          [[0.1111, 0.1111, 0.1111],\n           [0.1111, 0.1111, 0.1111],\n           [0.1111, 0.1111, 0.1111]]],\n \n \n         [[[0.1111, 0.1111, 0.1111],\n           [0.1111, 0.1111, 0.1111],\n           [0.1111, 0.1111, 0.1111]],\n \n          [[0.1111, 0.1111, 0.1111],\n           [0.1111, 0.1111, 0.1111],\n           [0.1111, 0.1111, 0.1111]],\n \n          [[0.1111, 0.1111, 0.1111],\n           [0.1111, 0.1111, 0.1111],\n           [0.1111, 0.1111, 0.1111]]],\n \n \n         [[[0.1111, 0.1111, 0.1111],\n           [0.1111, 0.1111, 0.1111],\n           [0.1111, 0.1111, 0.1111]],\n \n          [[0.1111, 0.1111, 0.1111],\n           [0.1111, 0.1111, 0.1111],\n           [0.1111, 0.1111, 0.1111]],\n \n          [[0.1111, 0.1111, 0.1111],\n           [0.1111, 0.1111, 0.1111],\n           [0.1111, 0.1111, 0.1111]]],\n \n \n         [[[0.1111, 0.1111, 0.1111],\n           [0.1111, 0.1111, 0.1111],\n           [0.1111, 0.1111, 0.1111]],\n \n          [[0.1111, 0.1111, 0.1111],\n           [0.1111, 0.1111, 0.1111],\n           [0.1111, 0.1111, 0.1111]],\n \n          [[0.1111, 0.1111, 0.1111],\n           [0.1111, 0.1111, 0.1111],\n           [0.1111, 0.1111, 0.1111]]],\n \n \n         [[[0.1111, 0.1111, 0.1111],\n           [0.1111, 0.1111, 0.1111],\n           [0.1111, 0.1111, 0.1111]],\n \n          [[0.1111, 0.1111, 0.1111],\n           [0.1111, 0.1111, 0.1111],\n           [0.1111, 0.1111, 0.1111]],\n \n          [[0.1111, 0.1111, 0.1111],\n           [0.1111, 0.1111, 0.1111],\n           [0.1111, 0.1111, 0.1111]]],\n \n \n         [[[0.1111, 0.1111, 0.1111],\n           [0.1111, 0.1111, 0.1111],\n           [0.1111, 0.1111, 0.1111]],\n \n          [[0.1111, 0.1111, 0.1111],\n           [0.1111, 0.1111, 0.1111],\n           [0.1111, 0.1111, 0.1111]],\n \n          [[0.1111, 0.1111, 0.1111],\n           [0.1111, 0.1111, 0.1111],\n           [0.1111, 0.1111, 0.1111]]],\n \n \n         [[[0.1111, 0.1111, 0.1111],\n           [0.1111, 0.1111, 0.1111],\n           [0.1111, 0.1111, 0.1111]],\n \n          [[0.1111, 0.1111, 0.1111],\n           [0.1111, 0.1111, 0.1111],\n           [0.1111, 0.1111, 0.1111]],\n \n          [[0.1111, 0.1111, 0.1111],\n           [0.1111, 0.1111, 0.1111],\n           [0.1111, 0.1111, 0.1111]]],\n \n \n         [[[0.1111, 0.1111, 0.1111],\n           [0.1111, 0.1111, 0.1111],\n           [0.1111, 0.1111, 0.1111]],\n \n          [[0.1111, 0.1111, 0.1111],\n           [0.1111, 0.1111, 0.1111],\n           [0.1111, 0.1111, 0.1111]],\n \n          [[0.1111, 0.1111, 0.1111],\n           [0.1111, 0.1111, 0.1111],\n           [0.1111, 0.1111, 0.1111]]]], requires_grad=True),\n Parameter containing:\n tensor([0., 0., 0., 0., 0., 0., 0., 0., 0., 0., 0., 0., 0., 0., 0., 0.],\n        requires_grad=True))"
     },
     "execution_count": 7,
     "metadata": {},
     "output_type": "execute_result"
    }
   ],
   "source": [
    "with torch.no_grad():\n",
    "    pad_conv.bias.zero_()\n",
    "    pad_conv.weight.fill_(1.0 / 9.0)\n",
    "\n",
    "pad_conv.weight, pad_conv.bias"
   ]
  },
  {
   "cell_type": "code",
   "execution_count": 8,
   "metadata": {},
   "outputs": [
    {
     "data": {
      "image/png": "[encoded data removed]",
      "text/plain": "<Figure size 432x288 with 2 Axes>"
     },
     "metadata": {
      "needs_background": "light",
      "transient": {}
     },
     "output_type": "display_data"
    }
   ],
   "source": [
    "out_pad = pad_conv(img.unsqueeze(0))\n",
    "\n",
    "fig, axs = plt.subplots(1,2)\n",
    "axs[0].imshow(img.mean(dim=0)) # note that the conv has weights for each of the input channels\n",
    "axs[1].imshow(out_pad[0, 0].detach())\n",
    "plt.show()"
   ]
  },
  {
   "cell_type": "code",
   "execution_count": 9,
   "metadata": {},
   "outputs": [],
   "source": [
    "blur1d = nn.Conv2d(3, 1, kernel_size=3, padding=1)\n",
    "with torch.no_grad():\n",
    "    blur1d.weight[:] = torch.tensor(\n",
    "        [[1., 0., 1.],\n",
    "        [1., 0., 1.],\n",
    "        [1., 0., 1.]]\n",
    "    )"
   ]
  },
  {
   "cell_type": "code",
   "execution_count": 10,
   "metadata": {},
   "outputs": [
    {
     "data": {
      "image/png": "[encoded data removed]",
      "text/plain": "<Figure size 432x288 with 3 Axes>"
     },
     "metadata": {
      "needs_background": "light",
      "transient": {}
     },
     "output_type": "display_data"
    }
   ],
   "source": [
    "out_blur1 = blur1d(img.unsqueeze(0))\n",
    "fig, axs = plt.subplots(1, 3)\n",
    "axs[0].imshow(img.mean(dim=0))\n",
    "axs[1].imshow(out_pad[0, 0].detach())\n",
    "axs[2].imshow(out_blur1[0, 0].detach())\n",
    "plt.show()"
   ]
  },
  {
   "cell_type": "code",
   "execution_count": 11,
   "metadata": {},
   "outputs": [],
   "source": [
    "edge_detect = nn.Conv2d(3, 1, kernel_size=3, padding=1)\n",
    "with torch.no_grad():\n",
    "    edge_detect.weight[:] = torch.tensor(\n",
    "        [[-1., 0., 1.],\n",
    "        [-1., 0., 1.],\n",
    "        [-1., 0., 1.]]\n",
    "    )"
   ]
  },
  {
   "cell_type": "code",
   "execution_count": 12,
   "metadata": {},
   "outputs": [
    {
     "data": {
      "image/png": "[encoded data removed]",
      "text/plain": "<Figure size 432x288 with 3 Axes>"
     },
     "metadata": {
      "needs_background": "light",
      "transient": {}
     },
     "output_type": "display_data"
    }
   ],
   "source": [
    "out_edge = edge_detect(img.unsqueeze(0))\n",
    "fig, axs = plt.subplots(1, 3)\n",
    "axs[0].imshow(img.mean(dim=0))\n",
    "axs[1].imshow(out_pad[0, 0].detach())\n",
    "axs[2].imshow(out_edge[0, 0].detach())\n",
    "plt.show()"
   ]
  },
  {
   "cell_type": "code",
   "execution_count": 13,
   "metadata": {},
   "outputs": [
    {
     "data": {
      "text/plain": "(18354, [432, 16, 1152, 8, 16384, 32, 320, 10])"
     },
     "execution_count": 13,
     "metadata": {},
     "output_type": "execute_result"
    }
   ],
   "source": [
    "pool_model = nn.Sequential(\n",
    "    nn.Conv2d(3, 16, kernel_size=3, padding=1),\n",
    "    nn.Tanh(),\n",
    "    nn.MaxPool2d(2),\n",
    "    nn.Conv2d(16, 8, kernel_size=3, padding=1),\n",
    "    nn.Tanh(),\n",
    "    nn.MaxPool2d(2),\n",
    "    nn.Flatten(),\n",
    "    nn.Linear(8 * 8 * 8, 32),\n",
    "    nn.Tanh(),\n",
    "    nn.Linear(32, 10)\n",
    ")\n",
    "\n",
    "numel_list = [p.numel() for p in pool_model.parameters()]\n",
    "sum(numel_list), numel_list"
   ]
  },
  {
   "cell_type": "code",
   "execution_count": 14,
   "metadata": {},
   "outputs": [
    {
     "data": {
      "text/plain": "tensor([[-0.1526,  0.2298,  0.1727,  0.0522, -0.1496, -0.0358,  0.1335,  0.1895,\n         -0.1518, -0.0685]], grad_fn=<AddmmBackward0>)"
     },
     "execution_count": 14,
     "metadata": {},
     "output_type": "execute_result"
    }
   ],
   "source": [
    "pool_model(img.unsqueeze(0))"
   ]
  },
  {
   "cell_type": "code",
   "execution_count": 15,
   "metadata": {},
   "outputs": [],
   "source": [
    "class PoolModel(nn.Module):\n",
    "    def __init__(self):\n",
    "        super().__init__()\n",
    "        self.conv1 = nn.Conv2d(3, 16, kernel_size=3, padding=1)\n",
    "        self.act1 = nn.Tanh()\n",
    "        self.pool1 = nn.MaxPool2d(2)\n",
    "        \n",
    "        self.conv2 = nn.Conv2d(16, 8, kernel_size=3, padding=1)\n",
    "        self.act2 = nn.Tanh()\n",
    "        self.pool2 = nn.MaxPool2d(2)\n",
    "        \n",
    "        self.flatten = nn.Flatten()\n",
    "        \n",
    "        self.fc1 = nn.Linear(8 * 8 * 8, 32)\n",
    "        self.act3 = nn.Tanh()\n",
    "        self.fc2 = nn.Linear(32, 10)\n",
    "        \n",
    "        \n",
    "    def forward(self, x):\n",
    "        out = self.pool1(self.act1(self.conv1(x)))\n",
    "        out = self.pool2(self.act2(self.conv2(out)))\n",
    "        out = self.flatten(out)\n",
    "        out = self.act3(self.fc1(out))\n",
    "        out = self.fc2(out)\n",
    "        return out"
   ]
  },
  {
   "cell_type": "code",
   "execution_count": 16,
   "metadata": {},
   "outputs": [],
   "source": [
    "import torch.nn.functional as F\n",
    "\n",
    "class PoolNeat(nn.Module):\n",
    "    def __init__(self):\n",
    "        super().__init__()\n",
    "        self.conv1 = nn.Conv2d(3, 16, kernel_size=3, padding=1)\n",
    "        self.conv2 = nn.Conv2d(16, 8, kernel_size=3, padding=1)\n",
    "        \n",
    "        self.fc1 = nn.Linear(8 * 8 * 8, 32)\n",
    "        self.fc2 = nn.Linear(32, 10)\n",
    "        \n",
    "    def forward(self, x):\n",
    "        out = F.max_pool2d(torch.tanh(self.conv1(x)), 2)\n",
    "        out = F.max_pool2d(torch.tanh(self.conv2(out)), 2)\n",
    "        out = torch.flatten(out, start_dim = 1) # in basic rather than Functional for some reason\n",
    "        # lots of key functionals like flatten and tanh have been moved to torch core namespace\n",
    "        out = self.fc2(torch.tanh(self.fc1(out)))\n",
    "        return out\n",
    "    \n",
    "# nn.Module class is a container for state in forms of Parameters and submodules in a forward function\n"
   ]
  },
  {
   "cell_type": "code",
   "execution_count": 17,
   "metadata": {},
   "outputs": [],
   "source": [
    "model = PoolNeat()\n",
    "model(img.unsqueeze(0))\n",
    "\n",
    "full_cifar = [i for i, _ in cifar10]"
   ]
  },
  {
   "cell_type": "code",
   "execution_count": 18,
   "metadata": {},
   "outputs": [
    {
     "data": {
      "text/plain": "tensor([[ 0.0409, -0.1623, -0.1202,  0.0545, -0.0870, -0.0197,  0.0726, -0.1733,\n          0.0814, -0.1529],\n        [ 0.0395, -0.1307, -0.1304,  0.0204, -0.0786, -0.0016,  0.0288, -0.1503,\n          0.0820, -0.1724],\n        [ 0.0277, -0.1691, -0.1295,  0.0192, -0.0241, -0.0390,  0.0530, -0.1552,\n          0.0471, -0.1519],\n        [ 0.0457, -0.1468, -0.1191,  0.0563, -0.0973, -0.0150,  0.0705, -0.1795,\n          0.0687, -0.1586]], grad_fn=<AddmmBackward0>)"
     },
     "execution_count": 18,
     "metadata": {},
     "output_type": "execute_result"
    }
   ],
   "source": [
    "imgs = torch.stack(full_cifar[:4])\n",
    "type(imgs), imgs.shape\n",
    "model(imgs)"
   ]
  },
  {
   "cell_type": "code",
   "execution_count": 19,
   "metadata": {},
   "outputs": [
    {
     "data": {
      "text/plain": "torch.Size([50000, 3, 32, 32])"
     },
     "execution_count": 19,
     "metadata": {},
     "output_type": "execute_result"
    }
   ],
   "source": [
    "import datetime\n",
    "import torch\n",
    "from torch.utils.data import DataLoader\n",
    "from torchvision import datasets, transforms\n",
    "\n",
    "data_path = './data/p1ch7'\n",
    "\n",
    "cifar = datasets.CIFAR10(data_path, train=True, transform=transforms.ToTensor())\n",
    "cifar_imgs = [img for img, val in cifar]\n",
    "cifar_img_t = torch.stack(cifar_imgs)\n",
    "cifar_img_t.shape"
   ]
  },
  {
   "cell_type": "code",
   "execution_count": 20,
   "metadata": {},
   "outputs": [
    {
     "data": {
      "text/plain": "(tensor([0.4914, 0.4822, 0.4465]), tensor([0.2470, 0.2435, 0.2616]))"
     },
     "execution_count": 20,
     "metadata": {},
     "output_type": "execute_result"
    }
   ],
   "source": [
    "channel_means = cifar_img_t.permute(1, 0, 2, 3).reshape(3, -1).mean(dim=1)\n",
    "channel_stds = cifar_img_t.permute(1, 0, 2, 3).reshape(3, -1).std(dim=1)\n",
    "channel_means, channel_stds"
   ]
  },
  {
   "cell_type": "code",
   "execution_count": 21,
   "metadata": {},
   "outputs": [],
   "source": [
    "full_transform = transforms.Compose([\n",
    "    transforms.ToTensor(),\n",
    "    transforms.Normalize(channel_means, channel_stds)\n",
    "])"
   ]
  },
  {
   "cell_type": "code",
   "execution_count": 22,
   "metadata": {},
   "outputs": [],
   "source": [
    "cifar_tr_train = datasets.CIFAR10(data_path, train=True, transform=full_transform)\n",
    "cifar_tr_val = datasets.CIFAR10(data_path, train=False, transform=full_transform)"
   ]
  },
  {
   "cell_type": "code",
   "execution_count": 23,
   "metadata": {},
   "outputs": [
    {
     "data": {
      "text/plain": "torch.utils.data.dataloader.DataLoader"
     },
     "execution_count": 23,
     "metadata": {},
     "output_type": "execute_result"
    }
   ],
   "source": [
    "train_loader = DataLoader(cifar_tr_train, batch_size=64, shuffle=True)\n",
    "val_loader = DataLoader(cifar_tr_val, batch_size=64, shuffle=True)\n",
    "\n",
    "type(train_loader)"
   ]
  },
  {
   "cell_type": "code",
   "execution_count": 24,
   "metadata": {},
   "outputs": [],
   "source": [
    "def training_loop(n_epochs, optimizer, model, loss_fn, train_loader):\n",
    "    for epoch in range(n_epochs + 1):\n",
    "        train_loss = 0.0\n",
    "        for imgs, labels in train_loader:\n",
    "            outputs = model(imgs)\n",
    "            loss = loss_fn(outputs, labels)\n",
    "            \n",
    "            optimizer.zero_grad()\n",
    "            loss.backward()\n",
    "            optimizer.step()\n",
    "            \n",
    "            train_loss += loss.item() #currently a torch.Tensor\n",
    "        \n",
    "        if epoch == 1 or epoch % 10 == 0:\n",
    "            print('{} Epoch: {}, Training loss: {}'.format(\n",
    "                datetime.datetime.now(), epoch, \n",
    "                train_loss / len(train_loader)\n",
    "            ))"
   ]
  },
  {
   "cell_type": "code",
   "execution_count": 25,
   "metadata": {},
   "outputs": [],
   "source": [
    "model = PoolNeat()\n",
    "learning_rate = 1e-2\n",
    "optimizer = torch.optim.SGD(model.parameters(), lr=learning_rate)\n",
    "loss_fn = torch.nn.CrossEntropyLoss()"
   ]
  },
  {
   "cell_type": "code",
   "execution_count": 26,
   "metadata": {},
   "outputs": [
    {
     "name": "stdout",
     "output_type": "stream",
     "text": [
      "2021-12-27 22:01:12.261930 Epoch: 0, Training loss: 2.0455404989554755\n",
      "2021-12-27 22:01:30.514659 Epoch: 1, Training loss: 1.720213831385688\n"
     ]
    }
   ],
   "source": [
    "training_loop(\n",
    "    n_epochs=1,\n",
    "    optimizer=optimizer,\n",
    "    model=model,\n",
    "    loss_fn=loss_fn,\n",
    "    train_loader=train_loader\n",
    ")"
   ]
  },
  {
   "cell_type": "code",
   "execution_count": 27,
   "metadata": {},
   "outputs": [
    {
     "name": "stdout",
     "output_type": "stream",
     "text": [
      "Train accuracy: 0.42\n",
      "Validation accuracy: 0.42\n"
     ]
    }
   ],
   "source": [
    "def validate(model, train_loader, val_loader):\n",
    "    for name, loader in [('Train', train_loader), ('Validation', val_loader)]:\n",
    "        total = 0\n",
    "        correct = 0\n",
    "        for imgs, labels in loader:\n",
    "            outputs = model(imgs)\n",
    "            _, predicted = torch.max(outputs, dim=1)\n",
    "            total += outputs.shape[0]\n",
    "            correct += int((predicted == labels).sum())\n",
    "            \n",
    "        print(\"{} accuracy: {:.2f}\".format(name, correct / total)) \n",
    "\n",
    "validate(model, train_loader, val_loader)    "
   ]
  },
  {
   "cell_type": "code",
   "execution_count": 28,
   "metadata": {},
   "outputs": [],
   "source": [
    "from os import path\n",
    "model_name = \"cifar10model.pt\"\n",
    "torch.save(model.state_dict(), os.path.join(data_path, model_name))"
   ]
  },
  {
   "cell_type": "code",
   "execution_count": 29,
   "metadata": {},
   "outputs": [
    {
     "name": "stdout",
     "output_type": "stream",
     "text": [
      "Train accuracy: 0.42\n",
      "Validation accuracy: 0.42\n"
     ]
    }
   ],
   "source": [
    "loaded_model = PoolNeat() # Must not change the definition of the class\n",
    "loaded_model.load_state_dict(torch.load(os.path.join(data_path, model_name)))\n",
    "\n",
    "validate(loaded_model, train_loader, val_loader)"
   ]
  },
  {
   "cell_type": "code",
   "execution_count": null,
   "metadata": {},
   "outputs": [],
   "source": []
  },
  {
   "cell_type": "code",
   "execution_count": 30,
   "metadata": {},
   "outputs": [
    {
     "data": {
      "text/plain": "False"
     },
     "execution_count": 30,
     "metadata": {},
     "output_type": "execute_result"
    }
   ],
   "source": [
    "import torch\n",
    "torch.cuda.is_available()"
   ]
  },
  {
   "cell_type": "code",
   "execution_count": 31,
   "metadata": {},
   "outputs": [],
   "source": [
    "class FancyPool(nn.Module):\n",
    "    def __init__(self, n_chans1=32):\n",
    "        super().__init__()\n",
    "        self.n_chans1 = n_chans1\n",
    "        self.conv1 = nn.Conv2d(3, n_chans1, kernel_size=3, padding=1)\n",
    "        self.conv1_drop = nn.Dropout2d(p=0.4) # use 2d dropout which zeros out a whole feature at a time\n",
    "        self.conv2 = nn.Conv2d(n_chans1, n_chans1 // 2, kernel_size=3, padding=1)\n",
    "        self.conv2_drop = nn.Dropout2d(p=0.4)\n",
    "        \n",
    "        self.fc1 = nn.Linear(8 * 8 * n_chans1 // 2, 32)\n",
    "        self.fc2 = nn.Linear(32, 10)\n",
    "        \n",
    "    def forward(self, x):\n",
    "        assert x.shape[2] == 32\n",
    "        assert x.shape[3] == 32\n",
    "        \n",
    "        \n",
    "        out = F.max_pool2d(torch.tanh(self.conv1(x)))\n",
    "        out = self.conv1_drop(out)\n",
    "        out = F.max_pool2d(torch.tanh(self.conv2(out)))\n",
    "        out = self.conv2_drop(out)\n",
    "        out = out.view(-1, 8 * 8 * self.n_chans1)\n",
    "        out = torch.tanh(self.fc1(out))\n",
    "        out = self.fc2(out)\n",
    "        \n",
    "    "
   ]
  },
  {
   "cell_type": "code",
   "execution_count": 32,
   "metadata": {},
   "outputs": [
    {
     "data": {
      "text/plain": "<function __main__.<lambda>(output)>"
     },
     "execution_count": 32,
     "metadata": {},
     "output_type": "execute_result"
    }
   ],
   "source": [
    "x = {'x': lambda output: -1}\n",
    "x['x']"
   ]
  },
  {
   "cell_type": "code",
   "execution_count": 33,
   "metadata": {},
   "outputs": [],
   "source": [
    "def training_loop_l2reg(\n",
    "    n_epochs,\n",
    "    optimizer,\n",
    "    model,\n",
    "    loss_fn,\n",
    "    device,\n",
    "    train_loader,\n",
    "    val_loader\n",
    "):\n",
    "    for epoch in range(1, n_epochs + 1):\n",
    "        train_loss = 0.0\n",
    "        for imgs, labels in train_loader:\n",
    "            imgs = imgs.to(device=device)\n",
    "            labels = labels.to(device=device)\n",
    "            outputs = model(imgs)\n",
    "            class_loss = loss_fn(outputs, labels)\n",
    "            l2loss = sum([p.pow(2.0).sum() for p in model.parameters()])\n",
    "            loss = class_loss + l2loss\n",
    "            \n",
    "            optimizer.zero_grad()\n",
    "            loss.backward()\n",
    "            optimizer.step()\n",
    "            train_loss += class_loss.item()\n",
    "        \n",
    "        \n",
    "        if epoch == 1 or epoch % 10 == 0:\n",
    "            print('{} Epoch: {}, Training loss: {}'.format(\n",
    "                datetime.datetime.now(), epoch,\n",
    "                train_loss / len(train_loader)\n",
    "            ))\n",
    "            validate(model, train_loader, val_loader)\n",
    "            \n",
    "# note that SGD already has a weight decay parameter so can just use that\n",
    "model_decay = FancyPool()\n",
    "d_optimizer = torch.optim.SGD(model_decay.parameters(), lr=1e-2, weight_decay=0.001)\n",
    "    "
   ]
  },
  {
   "cell_type": "code",
   "execution_count": 34,
   "metadata": {},
   "outputs": [],
   "source": [
    "# What is batchnorm doing?\n",
    "# It is normalizing the outputs of the batch, rescaling and moving so that\n",
    "# they're around the non-linear portion of the activation function\n",
    "\n",
    "\n",
    "class NetBatchNorm(nn.Module):\n",
    "    def __init__(self, n_chans1=32):\n",
    "        super().__init__()\n",
    "        self.n_chans1 = n_chans1\n",
    "        self.conv1 = nn.Conv2d(3, n_chans1, kernel_size=3, padding=1)\n",
    "        self.conv1_batchnorm = nn.BatchNorm2d(num_features=n_chans1)\n",
    "        self.conv2 = nn.Conv2(n_chans1, n_chans1 // 2, kernel_size=3, padding=1)\n",
    "        self.conv2_batchnorm = nn.BatchNorm2d(num_features=n_chans1 // 2)\n",
    "        self.fc1 = nn.Linear(8 * 8 * n_chans1 // 2, 32)\n",
    "        self.fc2 = nn.Linear(32, 10)\n",
    "        \n",
    "    def forward(self, x):\n",
    "        out = self.conv1_batchnorm(self.conv1(x))\n",
    "        out = F.max_pool2d(torch.tanh(out), 2)\n",
    "        out = self.conv2_batchnorm(self.conv2(out))\n",
    "        out = F.max_pool2d(torch.tanh(out), 2)\n",
    "        \n",
    "        out = out.view(-1, 8 * 8 * self.n_chans1 // 2)\n",
    "        \n",
    "        out = torch.tanh(self.fc1(out))\n",
    "        out = self.fc2(out)\n",
    "        return out\n",
    "    \n",
    "    "
   ]
  },
  {
   "cell_type": "code",
   "execution_count": 35,
   "metadata": {},
   "outputs": [],
   "source": [
    "class ResNet(nn.Module):\n",
    "    def __init__(self, n_chans1=32):\n",
    "        super().__init__()\n",
    "        self.n_chans1 = n_chans1\n",
    "        self.conv1 = nn.Conv2d(3, n_chans1, kernel_size=3, padding=1)\n",
    "        self.conv2 = nn.Conv2d(n_chans1, n_chans1 // 2, kernel_size=3, padding=1)\n",
    "        self.conv3 = nn.Conv2d(n_chans1 // 2, n_chans1 // 2, kernel_size=3, padding=1)\n",
    "        self.fc1 = nn.Linear(4 * 4 * n_chans1 // 2, 32)\n",
    "        self.fc2 = nn.Linear(32, 10)\n",
    "    \n",
    "    def forward(self, x):\n",
    "        out = F.max_pool2d(torch.tanh(self.conv1(x)), 2)\n",
    "        out = F.max_pool2d(torch.tanh(self.conv2(out)), 2)\n",
    "        out1 = out\n",
    "        out = F.max_pool2d(torch.tanh(self.conv3(out)) + out1, 2)\n",
    "        \n",
    "        out = out.view(-1, 4 * 4 * self.n_chans1 // 2)\n",
    "        out = torch.tanh(self.fc1(out))\n",
    "        out = self.fc2(out)\n",
    "        return out\n",
    "    \n",
    "# impacts of skip connections:\n",
    "# improves convergence, esp initially\n",
    "# loss landscape is much smoother        \n",
    "        \n",
    "        "
   ]
  },
  {
   "cell_type": "code",
   "execution_count": 36,
   "metadata": {},
   "outputs": [],
   "source": [
    "# to build v deep blocks we need to define sub blocks\n",
    "\n",
    "class ResBlock(nn.Module):\n",
    "    def __init__(self, n_chans):\n",
    "        super(ResBlock, self).__init__()\n",
    "        self.conv = nn.Conv2d(n_chans, n_chans, kernel_size=3,\n",
    "                              padding=1, bias=False) # batch norm would zero the bias anyway to its extraneous\n",
    "        self.batch_norm = nn.BatchNorm2d(num_features=n_chans)\n",
    "        torch.nn.init.kaiming_normal_(self.conv.weight,\n",
    "                                      nonlinearity='relu') \n",
    "        # initialization, basically normal dist around 0\n",
    "        # to copy the resnet paper exactly\n",
    "        torch.nn.init.constant_(self.batch_norm.weight, 0.5) # this i think is the number of channels\n",
    "        torch.nn.init.zeros_(self.batch_norm.bias) # this is the per channel bias\n",
    "        \n",
    "    def forward(self, x):\n",
    "        out = self.conv(out)\n",
    "        out = self.batch_norm(out)\n",
    "        out = torch.relu(out)\n",
    "        return out + x\n"
   ]
  },
  {
   "cell_type": "code",
   "execution_count": 37,
   "metadata": {},
   "outputs": [],
   "source": [
    "class ResNetDeep(nn.Module):\n",
    "    def __init__(self, n_chans1=32, n_blocks=10):\n",
    "        super().__init__()\n",
    "        self.n_chans1 = n_chans1\n",
    "        self.conv1 = nn.Conv2d(3, n_chans1, kernel_size=3, padding=1)\n",
    "        self.resblocks = nn.Sequential(\n",
    "            *(n_blocks * [ResBlock(n_chans=n_chans1)])\n",
    "        )\n",
    "        self.fc1 = nn.Linear(8 * 8 * n_chans1, 32)\n",
    "        self.fc2 = nn.Linear(32, 10)\n",
    "    \n",
    "    def forward(self, x):\n",
    "        out = F.max_pool2d(torch.relu(self.conv1(x)), 2)\n",
    "        out = self.resblocks(out)\n",
    "        out = F.max_pool2d(out, 2)\n",
    "        out = out.view(-1, 8 * 8 * self.n_chans1)\n",
    "        out = torch.relu(self.fc1(out))\n",
    "        out = self.fc2(out)\n",
    "        return out"
   ]
  },
  {
   "cell_type": "code",
   "execution_count": null,
   "metadata": {},
   "outputs": [],
   "source": [
    "# more care in intializations reflects the additional difficulty in "
   ]
  },
  {
   "cell_type": "code",
   "execution_count": null,
   "metadata": {},
   "outputs": [],
   "source": [
    "# Execises\n",
    "\n",
    "# reading the conv2d docs\n",
    "# there's grouping, where with a val of 3 there are three groups of channels which each\n",
    "# only see a third of the input channels\n",
    "# dilation spreads the pixels that the conv is looking at. produces a shrinking like with stride"
   ]
  }
 ],
 "metadata": {
  "kernelspec": {
   "display_name": "Python 3.8.10 64-bit ('venv')",
   "metadata": {
    "interpreter": {
     "hash": "d6a4bbd05ce9c893b429f45c3c159d278c088d407cccb8e9de1a5ef0145565cd"
    }
   },
   "name": "python3"
  },
  "language_info": {
   "codemirror_mode": {
    "name": "ipython",
    "version": 3
   },
   "file_extension": ".py",
   "mimetype": "text/x-python",
   "name": "python",
   "nbconvert_exporter": "python",
   "pygments_lexer": "ipython3",
   "version": "3.8.10-final"
  },
  "orig_nbformat": 2
 },
 "nbformat": 4,
 "nbformat_minor": 2
}